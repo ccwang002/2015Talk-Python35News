{
 "cells": [
  {
   "cell_type": "markdown",
   "metadata": {},
   "source": [
    "# PEP 465 - @ operator\n",
    "\n",
    "A dedicated infix operator for matrix multiplication"
   ]
  },
  {
   "cell_type": "markdown",
   "metadata": {
    "collapsed": true
   },
   "source": [
    "$$\n",
    "\\begin{bmatrix}\n",
    "1 & 2 \\\\\n",
    "3 & 4\n",
    "\\end{bmatrix} \\times\n",
    "\\begin{bmatrix}\n",
    "11 & 12 \\\\\n",
    "13 & 14\n",
    "\\end{bmatrix} = \\text{?}\n",
    "$$\n",
    "\n",
    "In Numpy (or many numerical computation cases), there are two ways to handle multiplication:\n",
    "\n",
    "- elementwise\n",
    "- matrix\n",
    "\n",
    "\n",
    "## Elementwise Multiplication\n",
    "\n",
    "$$\n",
    "\\begin{bmatrix}\n",
    "1 & 2 \\\\\n",
    "3 & 4\n",
    "\\end{bmatrix} \\times\n",
    "\\begin{bmatrix}\n",
    "11 & 12 \\\\\n",
    "13 & 14\n",
    "\\end{bmatrix} = \n",
    "\\begin{bmatrix}\n",
    "1 \\cdot 11 & 2 \\cdot 12\\\\\n",
    "3 \\cdot 13 & 4 \\cdot 14\n",
    "\\end{bmatrix}\n",
    "$$\n",
    "\n",
    "## Matrix Multiplication\n",
    "\n",
    "$$\n",
    "\\begin{bmatrix}\n",
    "1 & 2 \\\\\n",
    "3 & 4\n",
    "\\end{bmatrix} \\times\n",
    "\\begin{bmatrix}\n",
    "11 & 12 \\\\\n",
    "13 & 14\n",
    "\\end{bmatrix} = \n",
    "\\begin{bmatrix}\n",
    "1 \\cdot 11 + 2 \\cdot 13 & 1 \\cdot 12 + 2 \\cdot 14\\\\\n",
    "3 \\cdot 11 + 4 \\cdot 13 & 3 \\cdot 12 + 4 \\cdot 14\\\\\n",
    "\\end{bmatrix}\n",
    "$$"
   ]
  },
  {
   "cell_type": "code",
   "execution_count": 1,
   "metadata": {
    "collapsed": true
   },
   "outputs": [],
   "source": [
    "import numpy as np"
   ]
  },
  {
   "cell_type": "markdown",
   "metadata": {},
   "source": [
    "In Numpy by defualt is C-style (row-first) continguous."
   ]
  },
  {
   "cell_type": "code",
   "execution_count": 10,
   "metadata": {
    "collapsed": false
   },
   "outputs": [
    {
     "name": "stdout",
     "output_type": "stream",
     "text": [
      "matrix A: \n",
      "array([[1, 2],\n",
      "       [3, 4]])\n",
      "matrix B: \n",
      "array([[11, 12],\n",
      "       [13, 14]])\n"
     ]
    }
   ],
   "source": [
    "matA = np.array([[1, 2], [3, 4]], dtype=np.int)\n",
    "matB = np.array([[11, 12], [13, 14]], dtype=np.int)\n",
    "\n",
    "print('matrix A: \\n%r' % matA)\n",
    "print('matrix B: \\n%r' % matB)"
   ]
  },
  {
   "cell_type": "markdown",
   "metadata": {},
   "source": [
    "### Elementwise"
   ]
  },
  {
   "cell_type": "code",
   "execution_count": 11,
   "metadata": {
    "collapsed": false
   },
   "outputs": [
    {
     "data": {
      "text/plain": [
       "array([[11, 24],\n",
       "       [39, 56]])"
      ]
     },
     "execution_count": 11,
     "metadata": {},
     "output_type": "execute_result"
    }
   ],
   "source": [
    "matA * matB"
   ]
  },
  {
   "cell_type": "code",
   "execution_count": 13,
   "metadata": {
    "collapsed": false
   },
   "outputs": [
    {
     "data": {
      "text/plain": [
       "array([[11, 24],\n",
       "       [39, 56]])"
      ]
     },
     "execution_count": 13,
     "metadata": {},
     "output_type": "execute_result"
    }
   ],
   "source": [
    "np.multiply(matA, matB)"
   ]
  },
  {
   "cell_type": "code",
   "execution_count": 17,
   "metadata": {
    "collapsed": false
   },
   "outputs": [
    {
     "data": {
      "text/plain": [
       "array([[11, 24],\n",
       "       [39, 56]])"
      ]
     },
     "execution_count": 17,
     "metadata": {},
     "output_type": "execute_result"
    }
   ],
   "source": [
    "matA.__mul__(matB)"
   ]
  },
  {
   "cell_type": "markdown",
   "metadata": {},
   "source": [
    "### Matrix Multiplication"
   ]
  },
  {
   "cell_type": "code",
   "execution_count": 18,
   "metadata": {
    "collapsed": false
   },
   "outputs": [
    {
     "data": {
      "text/plain": [
       "array([[37, 40],\n",
       "       [85, 92]])"
      ]
     },
     "execution_count": 18,
     "metadata": {},
     "output_type": "execute_result"
    }
   ],
   "source": [
    "matA @ matB"
   ]
  },
  {
   "cell_type": "code",
   "execution_count": 15,
   "metadata": {
    "collapsed": false
   },
   "outputs": [
    {
     "data": {
      "text/plain": [
       "array([[37, 40],\n",
       "       [85, 92]])"
      ]
     },
     "execution_count": 15,
     "metadata": {},
     "output_type": "execute_result"
    }
   ],
   "source": [
    "np.dot(matA, matB)"
   ]
  },
  {
   "cell_type": "code",
   "execution_count": 16,
   "metadata": {
    "collapsed": false
   },
   "outputs": [
    {
     "data": {
      "text/plain": [
       "array([[37, 40],\n",
       "       [85, 92]])"
      ]
     },
     "execution_count": 16,
     "metadata": {},
     "output_type": "execute_result"
    }
   ],
   "source": [
    "matA.dot(matB)"
   ]
  },
  {
   "cell_type": "markdown",
   "metadata": {},
   "source": [
    "## Why @ operator?\n",
    "\n",
    "Becuase `np.dot` is too common.\n",
    "\n",
    "(Example from PEP 465) Try to write the following equation in Numpy.\n",
    "\n",
    "$$\n",
    "S = (H\\beta -r )^\\top(HVH^\\top)^{-1}(H\\beta -r)\n",
    "$$\n",
    "\n",
    "```python\n",
    "import numpy as np\n",
    "from numpy.linalg import inv, solve\n",
    "\n",
    "# Using dot function:\n",
    "S = np.dot(\n",
    "    (np.dot(H, beta) - r).T,\n",
    "    np.dot(inv(np.dot(np.dot(H, V), H.T)), np.dot(H, beta) - r)\n",
    ")\n",
    "\n",
    "# Using dot method:\n",
    "S = (H.dot(beta) - r).T.dot(inv(H.dot(V).dot(H.T))).dot(H.dot(beta) - r)\n",
    "```\n",
    "\n",
    "But with `@` we have,\n",
    "\n",
    "```ruby\n",
    "S = (H @ beta - r).T @ inv(H @ V @ H.T) @ (H @ beta - r)\n",
    "```\n",
    "\n",
    "Further optimize the computation,\n",
    "\n",
    "```ruby\n",
    "# Version 1 (as above)\n",
    "S = (H @ beta - r).T @ inv(H @ V @ H.T) @ (H @ beta - r)\n",
    "\n",
    "# Version 2\n",
    "trans_coef = H @ beta - r\n",
    "S = trans_coef.T @ inv(H @ V @ H.T) @ trans_coef\n",
    "\n",
    "# Version 3\n",
    "S = trans_coef.T @ solve(H @ V @ H.T, trans_coef)\n",
    "```"
   ]
  },
  {
   "cell_type": "markdown",
   "metadata": {
    "collapsed": true
   },
   "source": [
    "`doc/neps/return-of-revenge-of-matmul-pep.rst`"
   ]
  },
  {
   "cell_type": "markdown",
   "metadata": {},
   "source": [
    "### Reference\n",
    "\n",
    "- https://github.com/numpy/numpy/pull/4351/files\n",
    "- https://www.python.org/dev/peps/pep-0465/"
   ]
  },
  {
   "cell_type": "code",
   "execution_count": null,
   "metadata": {
    "collapsed": true
   },
   "outputs": [],
   "source": []
  }
 ],
 "metadata": {
  "kernelspec": {
   "display_name": "Python 3",
   "language": "python",
   "name": "python3"
  },
  "language_info": {
   "codemirror_mode": {
    "name": "ipython",
    "version": 3
   },
   "file_extension": ".py",
   "mimetype": "text/x-python",
   "name": "python",
   "nbconvert_exporter": "python",
   "pygments_lexer": "ipython3",
   "version": "3.5.0"
  }
 },
 "nbformat": 4,
 "nbformat_minor": 0
}
